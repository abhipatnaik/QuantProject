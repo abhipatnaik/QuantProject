{
 "cells": [
  {
   "cell_type": "code",
   "execution_count": 1,
   "id": "af878fa9",
   "metadata": {},
   "outputs": [],
   "source": [
    "import numpy as np\n",
    "from scipy.stats import norm"
   ]
  },
  {
   "cell_type": "code",
   "execution_count": 2,
   "id": "62673b16",
   "metadata": {},
   "outputs": [],
   "source": [
    "# Define Variable\n",
    "r = 0.01\n",
    "S = 30\n",
    "K = 40\n",
    "T = 240/365\n",
    "sigma = 0.30"
   ]
  },
  {
   "cell_type": "code",
   "execution_count": 3,
   "id": "d6f54b9e",
   "metadata": {},
   "outputs": [],
   "source": [
    "def blackScholes(r, S, K, T, sigma, type=\"c\"):\n",
    "    \"Calculate BS price of call/put\"\n",
    "    d1 = (np.log(S/K) + (r + sigma**2/2)*T)/(sigma*np.sqrt(T))\n",
    "    d2 = d1 - sigma*np.sqrt(T)\n",
    "    try:\n",
    "        if type == \"c\":\n",
    "            price = S*norm.cdf(d1, 0, 1) - K*np.exp(-r*T)*norm.cdf(d2, 0, 1)\n",
    "        elif type == \"p\":\n",
    "            price = K*np.exp(-r*T)*norm.cdf(-d2, 0, 1) - S*norm.cdf(-d1, 0, 1)\n",
    "        return price\n",
    "    except:\n",
    "        print(\"Please confirm option type, either 'c' for Call or 'p' for Put!\")"
   ]
  },
  {
   "cell_type": "code",
   "execution_count": 4,
   "id": "a3cdbcf3",
   "metadata": {},
   "outputs": [
    {
     "name": "stdout",
     "output_type": "stream",
     "text": [
      "Option Price is:  0.51\n"
     ]
    }
   ],
   "source": [
    "print('Option Price is: ', round(blackScholes(r, S, K, T, sigma, type=\"c\"), 2))"
   ]
  },
  {
   "cell_type": "code",
   "execution_count": null,
   "id": "ec555180",
   "metadata": {},
   "outputs": [],
   "source": []
  }
 ],
 "metadata": {
  "kernelspec": {
   "display_name": "Python 3 (ipykernel)",
   "language": "python",
   "name": "python3"
  },
  "language_info": {
   "codemirror_mode": {
    "name": "ipython",
    "version": 3
   },
   "file_extension": ".py",
   "mimetype": "text/x-python",
   "name": "python",
   "nbconvert_exporter": "python",
   "pygments_lexer": "ipython3",
   "version": "3.10.9"
  }
 },
 "nbformat": 4,
 "nbformat_minor": 5
}
